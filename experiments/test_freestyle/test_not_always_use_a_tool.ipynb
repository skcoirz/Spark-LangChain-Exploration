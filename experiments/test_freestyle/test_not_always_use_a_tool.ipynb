{
 "cells": [
  {
   "attachments": {},
   "cell_type": "markdown",
   "metadata": {},
   "source": [
    "# Test SparkAgent Not Always Use A Tool\n",
    "By default, the ZeroShotAgent forces AI to use a tool each time which is not always the case. When we ask for generic assistance, AI should be allowed to use its power to generate answer directly, such as top 2 options for a question.\n",
    "\n",
    "In this notebook, we experiment the newly added FreeStyleTool which allows AI to generate its own answer without using any of the provided tools."
   ]
  },
  {
   "cell_type": "code",
   "execution_count": 1,
   "metadata": {},
   "outputs": [
    {
     "name": "stderr",
     "output_type": "stream",
     "text": [
      "23/05/13 21:35:45 WARN Utils: Your hostname, Mikes-Mac-mini.local resolves to a loopback address: 127.0.0.1; using 192.168.68.115 instead (on interface en1)\n",
      "23/05/13 21:35:45 WARN Utils: Set SPARK_LOCAL_IP if you need to bind to another address\n",
      "Setting default log level to \"WARN\".\n",
      "To adjust logging level use sc.setLogLevel(newLevel). For SparkR, use setLogLevel(newLevel).\n",
      "23/05/13 21:35:45 WARN NativeCodeLoader: Unable to load native-hadoop library for your platform... using builtin-java classes where applicable\n",
      "23/05/13 21:35:46 WARN Utils: Service 'SparkUI' could not bind on port 4040. Attempting port 4041.\n",
      "                                                                                \r"
     ]
    },
    {
     "name": "stdout",
     "output_type": "stream",
     "text": [
      "+-----------+--------+------+--------------------+------+----+-----+-----+----------------+-------+-----+--------+\n",
      "|PassengerId|Survived|Pclass|                Name|   Sex| Age|SibSp|Parch|          Ticket|   Fare|Cabin|Embarked|\n",
      "+-----------+--------+------+--------------------+------+----+-----+-----+----------------+-------+-----+--------+\n",
      "|          1|       0|     3|Braund, Mr. Owen ...|  male|22.0|    1|    0|       A/5 21171|   7.25| null|       S|\n",
      "|          2|       1|     1|Cumings, Mrs. Joh...|female|38.0|    1|    0|        PC 17599|71.2833|  C85|       C|\n",
      "|          3|       1|     3|Heikkinen, Miss. ...|female|26.0|    0|    0|STON/O2. 3101282|  7.925| null|       S|\n",
      "|          4|       1|     1|Futrelle, Mrs. Ja...|female|35.0|    1|    0|          113803|   53.1| C123|       S|\n",
      "|          5|       0|     3|Allen, Mr. Willia...|  male|35.0|    0|    0|          373450|   8.05| null|       S|\n",
      "|          6|       0|     3|    Moran, Mr. James|  male|null|    0|    0|          330877| 8.4583| null|       Q|\n",
      "|          7|       0|     1|McCarthy, Mr. Tim...|  male|54.0|    0|    0|           17463|51.8625|  E46|       S|\n",
      "|          8|       0|     3|Palsson, Master. ...|  male| 2.0|    3|    1|          349909| 21.075| null|       S|\n",
      "|          9|       1|     3|Johnson, Mrs. Osc...|female|27.0|    0|    2|          347742|11.1333| null|       S|\n",
      "|         10|       1|     2|Nasser, Mrs. Nich...|female|14.0|    1|    0|          237736|30.0708| null|       C|\n",
      "|         11|       1|     3|Sandstrom, Miss. ...|female| 4.0|    1|    1|         PP 9549|   16.7|   G6|       S|\n",
      "|         12|       1|     1|Bonnell, Miss. El...|female|58.0|    0|    0|          113783|  26.55| C103|       S|\n",
      "|         13|       0|     3|Saundercock, Mr. ...|  male|20.0|    0|    0|       A/5. 2151|   8.05| null|       S|\n",
      "|         14|       0|     3|Andersson, Mr. An...|  male|39.0|    1|    5|          347082| 31.275| null|       S|\n",
      "|         15|       0|     3|Vestrom, Miss. Hu...|female|14.0|    0|    0|          350406| 7.8542| null|       S|\n",
      "|         16|       1|     2|Hewlett, Mrs. (Ma...|female|55.0|    0|    0|          248706|   16.0| null|       S|\n",
      "|         17|       0|     3|Rice, Master. Eugene|  male| 2.0|    4|    1|          382652| 29.125| null|       Q|\n",
      "|         18|       1|     2|Williams, Mr. Cha...|  male|null|    0|    0|          244373|   13.0| null|       S|\n",
      "|         19|       0|     3|Vander Planke, Mr...|female|31.0|    1|    0|          345763|   18.0| null|       S|\n",
      "|         20|       1|     3|Masselmani, Mrs. ...|female|null|    0|    0|            2649|  7.225| null|       C|\n",
      "+-----------+--------+------+--------------------+------+----+-----+-----+----------------+-------+-----+--------+\n",
      "only showing top 20 rows\n",
      "\n"
     ]
    }
   ],
   "source": [
    "from pathlib import Path\n",
    "db_address = Path(\"./spark-warehouse/\")\n",
    "if (db_address.exists()):\n",
    "    import shutil\n",
    "    shutil.rmtree(db_address)\n",
    "\n",
    "from pyspark.sql import SparkSession\n",
    "\n",
    "spark = SparkSession.builder.getOrCreate()\n",
    "schema = \"langchain_example\"\n",
    "spark.sql(f\"CREATE DATABASE IF NOT EXISTS {schema}\")\n",
    "spark.sql(f\"USE {schema}\")\n",
    "csv_file_path = \"../titanic.csv\"\n",
    "table = \"titanic\"\n",
    "spark.read.csv(csv_file_path, header=True, inferSchema=True).write.saveAsTable(table, mode=\"overwrite\")\n",
    "spark.table(table).show()"
   ]
  },
  {
   "cell_type": "code",
   "execution_count": 2,
   "metadata": {},
   "outputs": [
    {
     "name": "stdout",
     "output_type": "stream",
     "text": [
      "\n",
      "\n",
      "\n",
      "RETURN FREE STYLE\n",
      "\n",
      "\n",
      "\n"
     ]
    }
   ],
   "source": [
    "from langchain.agents import create_spark_analytics_agent_verified\n",
    "\n",
    "agent_executor = create_spark_analytics_agent_verified(\n",
    "    schema=schema,\n",
    "    allow_freestyle=True,\n",
    ")"
   ]
  },
  {
   "cell_type": "code",
   "execution_count": 4,
   "metadata": {},
   "outputs": [
    {
     "name": "stdout",
     "output_type": "stream",
     "text": [
      "\n",
      "\n",
      "\u001b[1m> Entering new AgentExecutor chain...\u001b[0m\n",
      "\u001b[32;1m\u001b[1;3mAction: list_tables_sql_db\n",
      "Action Input: \u001b[0m\n",
      "tool args \n",
      "\n",
      "tool kwargs\n",
      "\n",
      "Observation: \u001b[38;5;200m\u001b[1;3mtitanic\u001b[0m\n",
      "Thought:\u001b[32;1m\u001b[1;3mI should check the schema of the titanic table to find the relevant columns for the most expensive class.\n",
      "Action: schema_sql_db\n",
      "Action Input: titanic\u001b[0m\n",
      "tool args titanic\n",
      "\n",
      "tool kwargs\n",
      "\n",
      "Observation: \u001b[33;1m\u001b[1;3mCREATE TABLE langchain_example.titanic (\n",
      "  PassengerId INT,\n",
      "  Survived INT,\n",
      "  Pclass INT,\n",
      "  Name STRING,\n",
      "  Sex STRING,\n",
      "  Age DOUBLE,\n",
      "  SibSp INT,\n",
      "  Parch INT,\n",
      "  Ticket STRING,\n",
      "  Fare DOUBLE,\n",
      "  Cabin STRING,\n",
      "  Embarked STRING)\n",
      ";\n",
      "\n",
      "/*\n",
      "3 rows from titanic table:\n",
      "PassengerId\tSurvived\tPclass\tName\tSex\tAge\tSibSp\tParch\tTicket\tFare\tCabin\tEmbarked\n",
      "1\t0\t3\tBraund, Mr. Owen Harris\tmale\t22.0\t1\t0\tA/5 21171\t7.25\tNone\tS\n",
      "2\t1\t1\tCumings, Mrs. John Bradley (Florence Briggs Thayer)\tfemale\t38.0\t1\t0\tPC 17599\t71.2833\tC85\tC\n",
      "3\t1\t3\tHeikkinen, Miss. Laina\tfemale\t26.0\t0\t0\tSTON/O2. 3101282\t7.925\tNone\tS\n",
      "*/\u001b[0m\n",
      "Thought:\u001b[32;1m\u001b[1;3mI can use the Pclass and Fare columns to find the most expensive class. I will provide two different ways to query the most expensive class. First, I will use the MAX function on the Fare column, and then I will use the MIN function on the Pclass column. I need to double check my queries before executing them.\u001b[0m\n",
      "tool args \n",
      "\n",
      "tool kwargs\n",
      "\n",
      "Observation: \u001b[36;1m\u001b[1;3mAI is allowed to generate the answer when it has the confidence.\u001b[0m\n",
      "Thought:\u001b[32;1m\u001b[1;3mI have confidence in my queries.\n",
      "Action: query_checker_sql_db\n",
      "Action Input: SELECT Pclass, MAX(Fare) as Max_Fare FROM titanic GROUP BY Pclass ORDER BY Max_Fare DESC LIMIT 1\u001b[0m\n",
      "tool args SELECT Pclass, MAX(Fare) as Max_Fare FROM titanic GROUP BY Pclass ORDER BY Max_Fare DESC LIMIT 1\n",
      "\n",
      "tool kwargs\n",
      "\n",
      "Observation: \u001b[31;1m\u001b[1;3mThe original query seems to be correct. There are no common mistakes present. So, I will reproduce the original query:\n",
      "\n",
      "SELECT Pclass, MAX(Fare) as Max_Fare FROM titanic GROUP BY Pclass ORDER BY Max_Fare DESC LIMIT 1\u001b[0m\n",
      "Thought:\u001b[32;1m\u001b[1;3mNow that I have checked the first query, I will check the second query.\n",
      "Action: query_checker_sql_db\n",
      "Action Input: SELECT Pclass, MIN(Pclass) as Min_Pclass FROM titanic GROUP BY Pclass ORDER BY Min_Pclass ASC LIMIT 1\u001b[0m\n",
      "tool args SELECT Pclass, MIN(Pclass) as Min_Pclass FROM titanic GROUP BY Pclass ORDER BY Min_Pclass ASC LIMIT 1\n",
      "\n",
      "tool kwargs\n",
      "\n",
      "Observation: \u001b[31;1m\u001b[1;3mThe original query does not have any common mistakes. Here is the reproduced query:\n",
      "\n",
      "SELECT Pclass, MIN(Pclass) as Min_Pclass FROM titanic GROUP BY Pclass ORDER BY Min_Pclass ASC LIMIT 1\u001b[0m\n",
      "Thought:\u001b[32;1m\u001b[1;3mNow that I have checked both queries, I can execute them to find the most expensive class in two different ways.\n",
      "Action: query_sql_db\n",
      "Action Input: SELECT Pclass, MAX(Fare) as Max_Fare FROM titanic GROUP BY Pclass ORDER BY Max_Fare DESC LIMIT 1\u001b[0m\n",
      "tool args SELECT Pclass, MAX(Fare) as Max_Fare FROM titanic GROUP BY Pclass ORDER BY Max_Fare DESC LIMIT 1\n",
      "\n",
      "tool kwargs\n",
      "\n",
      "Observation: \u001b[36;1m\u001b[1;3m[('1', '512.3292')]\u001b[0m\n",
      "Thought:\u001b[32;1m\u001b[1;3mI found the most expensive class using the MAX function on the Fare column. Now I will execute the second query to find the most expensive class using the MIN function on the Pclass column.\n",
      "Action: query_sql_db\n",
      "Action Input: SELECT Pclass, MIN(Pclass) as Min_Pclass FROM titanic GROUP BY Pclass ORDER BY Min_Pclass ASC LIMIT 1\u001b[0m\n",
      "tool args SELECT Pclass, MIN(Pclass) as Min_Pclass FROM titanic GROUP BY Pclass ORDER BY Min_Pclass ASC LIMIT 1\n",
      "\n",
      "tool kwargs\n",
      "\n",
      "Observation: \u001b[36;1m\u001b[1;3m[('1', '1')]\u001b[0m\n",
      "Thought:\u001b[32;1m\u001b[1;3mI now know the final answer\n",
      "Final Answer: There are two different ways to query the most expensive class: \n",
      "1. Using the MAX function on the Fare column: SELECT Pclass, MAX(Fare) as Max_Fare FROM titanic GROUP BY Pclass ORDER BY Max_Fare DESC LIMIT 1. The result is Class 1 with a maximum fare of 512.3292.\n",
      "2. Using the MIN function on the Pclass column: SELECT Pclass, MIN(Pclass) as Min_Pclass FROM titanic GROUP BY Pclass ORDER BY Min_Pclass ASC LIMIT 1. The result is Class 1 with a minimum Pclass value of 1.\u001b[0m\n",
      "\n",
      "\u001b[1m> Finished chain.\u001b[0m\n"
     ]
    },
    {
     "data": {
      "text/plain": [
       "'There are two different ways to query the most expensive class: \\n1. Using the MAX function on the Fare column: SELECT Pclass, MAX(Fare) as Max_Fare FROM titanic GROUP BY Pclass ORDER BY Max_Fare DESC LIMIT 1. The result is Class 1 with a maximum fare of 512.3292.\\n2. Using the MIN function on the Pclass column: SELECT Pclass, MIN(Pclass) as Min_Pclass FROM titanic GROUP BY Pclass ORDER BY Min_Pclass ASC LIMIT 1. The result is Class 1 with a minimum Pclass value of 1.'"
      ]
     },
     "execution_count": 4,
     "metadata": {},
     "output_type": "execute_result"
    }
   ],
   "source": [
    "agent_executor.run(\"give me two different ways to query the most expensive class\")"
   ]
  }
 ],
 "metadata": {
  "kernelspec": {
   "display_name": "LangChain",
   "language": "python",
   "name": "python3"
  },
  "language_info": {
   "codemirror_mode": {
    "name": "ipython",
    "version": 3
   },
   "file_extension": ".py",
   "mimetype": "text/x-python",
   "name": "python",
   "nbconvert_exporter": "python",
   "pygments_lexer": "ipython3",
   "version": "3.9.16"
  },
  "orig_nbformat": 4
 },
 "nbformat": 4,
 "nbformat_minor": 2
}
