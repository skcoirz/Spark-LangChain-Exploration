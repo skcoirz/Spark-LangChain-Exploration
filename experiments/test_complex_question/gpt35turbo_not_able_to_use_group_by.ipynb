{
 "cells": [
  {
   "attachments": {},
   "cell_type": "markdown",
   "metadata": {},
   "source": [
    "# Experiment SparkSQLAgent with Complex Cases\n",
    "\n",
    "This experiment is based on https://github.com/hwchase17/langchain/pull/4381"
   ]
  },
  {
   "cell_type": "code",
   "execution_count": 1,
   "metadata": {},
   "outputs": [
    {
     "name": "stderr",
     "output_type": "stream",
     "text": [
      "Setting default log level to \"WARN\".\n",
      "To adjust logging level use sc.setLogLevel(newLevel). For SparkR, use setLogLevel(newLevel).\n",
      "23/05/10 21:15:33 WARN NativeCodeLoader: Unable to load native-hadoop library for your platform... using builtin-java classes where applicable\n"
     ]
    },
    {
     "name": "stdout",
     "output_type": "stream",
     "text": [
      "+-----------+--------+------+--------------------+------+----+-----+-----+----------------+-------+-----+--------+\n",
      "|PassengerId|Survived|Pclass|                Name|   Sex| Age|SibSp|Parch|          Ticket|   Fare|Cabin|Embarked|\n",
      "+-----------+--------+------+--------------------+------+----+-----+-----+----------------+-------+-----+--------+\n",
      "|          1|       0|     3|Braund, Mr. Owen ...|  male|22.0|    1|    0|       A/5 21171|   7.25| null|       S|\n",
      "|          2|       1|     1|Cumings, Mrs. Joh...|female|38.0|    1|    0|        PC 17599|71.2833|  C85|       C|\n",
      "|          3|       1|     3|Heikkinen, Miss. ...|female|26.0|    0|    0|STON/O2. 3101282|  7.925| null|       S|\n",
      "|          4|       1|     1|Futrelle, Mrs. Ja...|female|35.0|    1|    0|          113803|   53.1| C123|       S|\n",
      "|          5|       0|     3|Allen, Mr. Willia...|  male|35.0|    0|    0|          373450|   8.05| null|       S|\n",
      "|          6|       0|     3|    Moran, Mr. James|  male|null|    0|    0|          330877| 8.4583| null|       Q|\n",
      "|          7|       0|     1|McCarthy, Mr. Tim...|  male|54.0|    0|    0|           17463|51.8625|  E46|       S|\n",
      "|          8|       0|     3|Palsson, Master. ...|  male| 2.0|    3|    1|          349909| 21.075| null|       S|\n",
      "|          9|       1|     3|Johnson, Mrs. Osc...|female|27.0|    0|    2|          347742|11.1333| null|       S|\n",
      "|         10|       1|     2|Nasser, Mrs. Nich...|female|14.0|    1|    0|          237736|30.0708| null|       C|\n",
      "|         11|       1|     3|Sandstrom, Miss. ...|female| 4.0|    1|    1|         PP 9549|   16.7|   G6|       S|\n",
      "|         12|       1|     1|Bonnell, Miss. El...|female|58.0|    0|    0|          113783|  26.55| C103|       S|\n",
      "|         13|       0|     3|Saundercock, Mr. ...|  male|20.0|    0|    0|       A/5. 2151|   8.05| null|       S|\n",
      "|         14|       0|     3|Andersson, Mr. An...|  male|39.0|    1|    5|          347082| 31.275| null|       S|\n",
      "|         15|       0|     3|Vestrom, Miss. Hu...|female|14.0|    0|    0|          350406| 7.8542| null|       S|\n",
      "|         16|       1|     2|Hewlett, Mrs. (Ma...|female|55.0|    0|    0|          248706|   16.0| null|       S|\n",
      "|         17|       0|     3|Rice, Master. Eugene|  male| 2.0|    4|    1|          382652| 29.125| null|       Q|\n",
      "|         18|       1|     2|Williams, Mr. Cha...|  male|null|    0|    0|          244373|   13.0| null|       S|\n",
      "|         19|       0|     3|Vander Planke, Mr...|female|31.0|    1|    0|          345763|   18.0| null|       S|\n",
      "|         20|       1|     3|Masselmani, Mrs. ...|female|null|    0|    0|            2649|  7.225| null|       C|\n",
      "+-----------+--------+------+--------------------+------+----+-----+-----+----------------+-------+-----+--------+\n",
      "only showing top 20 rows\n",
      "\n"
     ]
    }
   ],
   "source": [
    "from pyspark.sql import SparkSession\n",
    "\n",
    "spark = SparkSession.builder.getOrCreate()\n",
    "schema = \"langchain_example\"\n",
    "spark.sql(f\"CREATE DATABASE IF NOT EXISTS {schema}\")\n",
    "spark.sql(f\"USE {schema}\")\n",
    "csv_file_path = \"../titanic.csv\"\n",
    "table = \"titanic\"\n",
    "spark.read.csv(csv_file_path, header=True, inferSchema=True).write.mode('overwrite').saveAsTable(table)\n",
    "spark.table(table).show()"
   ]
  },
  {
   "cell_type": "code",
   "execution_count": 2,
   "metadata": {},
   "outputs": [],
   "source": [
    "from langchain.agents import create_sql_agent\n",
    "from langchain.agents.agent_toolkits import SQLDatabaseToolkit\n",
    "from langchain.chat_models import ChatOpenAI\n",
    "from langchain.spark_sql import SparkSQL\n",
    "\n",
    "db = SparkSQL(schema=schema)\n",
    "llm = ChatOpenAI(temperature=0, model_name=\"gpt-3.5-turbo\")\n",
    "toolkit = SQLDatabaseToolkit(db=db, llm=llm)\n",
    "agent_executor = create_sql_agent(\n",
    "    llm=llm,\n",
    "    toolkit=toolkit,\n",
    "    verbose=True\n",
    ")"
   ]
  },
  {
   "cell_type": "code",
   "execution_count": 3,
   "metadata": {},
   "outputs": [
    {
     "name": "stdout",
     "output_type": "stream",
     "text": [
      "\n",
      "\n",
      "\u001b[1m> Entering new AgentExecutor chain...\u001b[0m\n",
      "\n",
      "MK,  Action: list_tables_sql_db\n",
      "Action Input: \"\" \n",
      "\n",
      "\u001b[32;1m\u001b[1;3mAction: list_tables_sql_db\n",
      "Action Input: \"\"\u001b[0m\n",
      "Observation: \u001b[38;5;200m\u001b[1;3mtitanic\u001b[0m\n",
      "Thought:\n",
      "MK,  I should query the titanic table to find the most expensive cabin.\n",
      "Action: query_checker_sql_db\n",
      "Action Input: \"SELECT cabin, fare FROM titanic ORDER BY fare DESC LIMIT 1\" \n",
      "\n",
      "\u001b[32;1m\u001b[1;3mI should query the titanic table to find the most expensive cabin.\n",
      "Action: query_checker_sql_db\n",
      "Action Input: \"SELECT cabin, fare FROM titanic ORDER BY fare DESC LIMIT 1\"\u001b[0m\n",
      "Observation: \u001b[31;1m\u001b[1;3mThe original query is correct and does not contain any of the mentioned mistakes.\u001b[0m\n",
      "Thought:\n",
      "MK,  I can now execute the query to get the answer.\n",
      "Action: query_sql_db\n",
      "Action Input: \"SELECT cabin, fare FROM titanic ORDER BY fare DESC LIMIT 1\" \n",
      "\n",
      "\u001b[32;1m\u001b[1;3mI can now execute the query to get the answer.\n",
      "Action: query_sql_db\n",
      "Action Input: \"SELECT cabin, fare FROM titanic ORDER BY fare DESC LIMIT 1\"\u001b[0m\n",
      "Observation: \u001b[36;1m\u001b[1;3m[('None', '512.3292')]\u001b[0m\n",
      "Thought:\n",
      "MK,  The most expensive cabin is 'None'.\n",
      "Final Answer: 'None' \n",
      "\n",
      "\u001b[32;1m\u001b[1;3mThe most expensive cabin is 'None'.\n",
      "Final Answer: 'None'\u001b[0m\n",
      "\n",
      "\u001b[1m> Finished chain.\u001b[0m\n"
     ]
    },
    {
     "data": {
      "text/plain": [
       "\"'None'\""
      ]
     },
     "execution_count": 3,
     "metadata": {},
     "output_type": "execute_result"
    }
   ],
   "source": [
    "agent_executor.run(\"which cabin is the most expensive?\")"
   ]
  },
  {
   "cell_type": "code",
   "execution_count": 5,
   "metadata": {},
   "outputs": [
    {
     "name": "stdout",
     "output_type": "stream",
     "text": [
      "\n",
      "\n",
      "\u001b[1m> Entering new AgentExecutor chain...\u001b[0m\n",
      "\n",
      "MK,  Action: list_tables_sql_db, \"\" \n",
      "\n",
      "\u001b[32;1m\u001b[1;3mAction: list_tables_sql_db, \"\"\u001b[0m\n",
      "Observation: \u001b[38;5;200m\u001b[1;3mtitanic\u001b[0m\n",
      "Thought:\n",
      "MK,  I should query the titanic table to find the number of people who bought the most expensive cabin.\n",
      "Action: query_checker_sql_db, \"SELECT COUNT(*) FROM titanic WHERE Fare = (SELECT MAX(Fare) FROM titanic WHERE Pclass = 1)\" \n",
      "\n",
      "\u001b[32;1m\u001b[1;3mI should query the titanic table to find the number of people who bought the most expensive cabin.\n",
      "Action: query_checker_sql_db, \"SELECT COUNT(*) FROM titanic WHERE Fare = (SELECT MAX(Fare) FROM titanic WHERE Pclass = 1)\"\u001b[0m\n",
      "Observation: \u001b[31;1m\u001b[1;3mThe original query is correct and does not contain any of the common mistakes listed. Therefore, the query is:\n",
      "\n",
      "SELECT COUNT(*) FROM titanic WHERE Fare = (SELECT MAX(Fare) FROM titanic WHERE Pclass = 1)\u001b[0m\n",
      "Thought:\n",
      "MK,  I should execute the query to get the final answer.\n",
      "Action: query_sql_db, \"SELECT COUNT(*) FROM titanic WHERE Fare = (SELECT MAX(Fare) FROM titanic WHERE Pclass = 1)\" \n",
      "\n",
      "\u001b[32;1m\u001b[1;3mI should execute the query to get the final answer.\n",
      "Action: query_sql_db, \"SELECT COUNT(*) FROM titanic WHERE Fare = (SELECT MAX(Fare) FROM titanic WHERE Pclass = 1)\"\u001b[0m\n",
      "Observation: \u001b[36;1m\u001b[1;3m[('3',)]\u001b[0m\n",
      "Thought:\n",
      "MK,  I now know the final answer.\n",
      "Final Answer: 3 people bought the most expensive cabin. \n",
      "\n",
      "\u001b[32;1m\u001b[1;3mI now know the final answer.\n",
      "Final Answer: 3 people bought the most expensive cabin.\u001b[0m\n",
      "\n",
      "\u001b[1m> Finished chain.\u001b[0m\n"
     ]
    },
    {
     "data": {
      "text/plain": [
       "'3 people bought the most expensive cabin.'"
      ]
     },
     "execution_count": 5,
     "metadata": {},
     "output_type": "execute_result"
    }
   ],
   "source": [
    "agent_executor.run(\"how many people bought the most expensive cabin?\")"
   ]
  },
  {
   "cell_type": "code",
   "execution_count": 6,
   "metadata": {},
   "outputs": [
    {
     "name": "stdout",
     "output_type": "stream",
     "text": [
      "\n",
      "\n",
      "\u001b[1m> Entering new AgentExecutor chain...\u001b[0m\n",
      "\n",
      "MK,  Action: list_tables_sql_db, \"\" \n",
      "\n",
      "\u001b[32;1m\u001b[1;3mAction: list_tables_sql_db, \"\"\u001b[0m\n",
      "Observation: \u001b[38;5;200m\u001b[1;3mtitanic\u001b[0m\n",
      "Thought:\n",
      "MK,  I should query the titanic table to get the relevant information.\n",
      "Action: schema_sql_db, \"titanic\" \n",
      "\n",
      "\u001b[32;1m\u001b[1;3mI should query the titanic table to get the relevant information.\n",
      "Action: schema_sql_db, \"titanic\"\u001b[0mCREATE TABLE langchain_example.titanic (\n",
      "  PassengerId INT,\n",
      "  Survived INT,\n",
      "  Pclass INT,\n",
      "  Name STRING,\n",
      "  Sex STRING,\n",
      "  Age DOUBLE,\n",
      "  SibSp INT,\n",
      "  Parch INT,\n",
      "  Ticket STRING,\n",
      "  Fare DOUBLE,\n",
      "  Cabin STRING,\n",
      "  Embarked STRING)\n",
      "USING parquet\n",
      "\n",
      "\n",
      "Observation: \u001b[33;1m\u001b[1;3mCREATE TABLE langchain_example.titanic (\n",
      "  PassengerId INT,\n",
      "  Survived INT,\n",
      "  Pclass INT,\n",
      "  Name STRING,\n",
      "  Sex STRING,\n",
      "  Age DOUBLE,\n",
      "  SibSp INT,\n",
      "  Parch INT,\n",
      "  Ticket STRING,\n",
      "  Fare DOUBLE,\n",
      "  Cabin STRING,\n",
      "  Embarked STRING)\n",
      ";\n",
      "\n",
      "/*\n",
      "3 rows from titanic table:\n",
      "PassengerId\tSurvived\tPclass\tName\tSex\tAge\tSibSp\tParch\tTicket\tFare\tCabin\tEmbarked\n",
      "1\t0\t3\tBraund, Mr. Owen Harris\tmale\t22.0\t1\t0\tA/5 21171\t7.25\tNone\tS\n",
      "2\t1\t1\tCumings, Mrs. John Bradley (Florence Briggs Thayer)\tfemale\t38.0\t1\t0\tPC 17599\t71.2833\tC85\tC\n",
      "3\t1\t3\tHeikkinen, Miss. Laina\tfemale\t26.0\t0\t0\tSTON/O2. 3101282\t7.925\tNone\tS\n",
      "*/\u001b[0m\n",
      "Thought:\n",
      "MK,  I need to join the titanic table with itself to get the passengers who bought the most expensive cabin, then filter by female passengers and calculate the percentage.\n",
      "Action: query_checker_sql_db, \"SELECT t1.Sex, COUNT(*) * 100.0 / (SELECT COUNT(*) FROM titanic t2 WHERE t2.Cabin = (SELECT MAX(Fare) FROM titanic)) AS percentage FROM titanic t1 WHERE t1.Cabin = (SELECT MAX(Fare) FROM titanic) AND t1.Sex = 'female'\" \n",
      "\n",
      "\u001b[32;1m\u001b[1;3mI need to join the titanic table with itself to get the passengers who bought the most expensive cabin, then filter by female passengers and calculate the percentage.\n",
      "Action: query_checker_sql_db, \"SELECT t1.Sex, COUNT(*) * 100.0 / (SELECT COUNT(*) FROM titanic t2 WHERE t2.Cabin = (SELECT MAX(Fare) FROM titanic)) AS percentage FROM titanic t1 WHERE t1.Cabin = (SELECT MAX(Fare) FROM titanic) AND t1.Sex = 'female'\"\u001b[0m\n",
      "Observation: \u001b[31;1m\u001b[1;3mThe original query looks correct and does not contain any of the common mistakes listed. Therefore, the original query is:\n",
      "\n",
      "SELECT t1.Sex, COUNT(*) * 100.0 / (SELECT COUNT(*) FROM titanic t2 WHERE t2.Cabin = (SELECT MAX(Fare) FROM titanic)) AS percentage FROM titanic t1 WHERE t1.Cabin = (SELECT MAX(Fare) FROM titanic) AND t1.Sex = 'female'\u001b[0m\n",
      "Thought:\n",
      "MK,  I am ready to execute the query and get the final answer.\n",
      "Action: query_sql_db, \"SELECT t1.Sex, COUNT(*) * 100.0 / (SELECT COUNT(*) FROM titanic t2 WHERE t2.Cabin = (SELECT MAX(Fare) FROM titanic)) AS percentage FROM titanic t1 WHERE t1.Cabin = (SELECT MAX(Fare) FROM titanic) AND t1.Sex = 'female'\" \n",
      "\n",
      "\u001b[32;1m\u001b[1;3mI am ready to execute the query and get the final answer.\n",
      "Action: query_sql_db, \"SELECT t1.Sex, COUNT(*) * 100.0 / (SELECT COUNT(*) FROM titanic t2 WHERE t2.Cabin = (SELECT MAX(Fare) FROM titanic)) AS percentage FROM titanic t1 WHERE t1.Cabin = (SELECT MAX(Fare) FROM titanic) AND t1.Sex = 'female'\"\u001b[0m"
     ]
    },
    {
     "ename": "AnalysisException",
     "evalue": "[MISSING_GROUP_BY] The query does not include a GROUP BY clause. Add GROUP BY or turn it into the window functions using OVER clauses.; line 1 pos 0;\nAggregate [Sex#69, ((cast(count(1) as decimal(20,0)) * 100.0) / cast(scalar-subquery#248 [] as decimal(20,0))) AS percentage#249]\n:  +- Aggregate [count(1) AS count(1)#281L]\n:     +- Filter (cast(Cabin#292 as double) = scalar-subquery#247 [])\n:        :  +- Aggregate [max(Fare#278) AS max(Fare)#268]\n:        :     +- SubqueryAlias spark_catalog.langchain_example.titanic\n:        :        +- Relation spark_catalog.langchain_example.titanic[PassengerId#269,Survived#270,Pclass#271,Name#272,Sex#273,Age#274,SibSp#275,Parch#276,Ticket#277,Fare#278,Cabin#279,Embarked#280] parquet\n:        +- SubqueryAlias t2\n:           +- SubqueryAlias spark_catalog.langchain_example.titanic\n:              +- Relation spark_catalog.langchain_example.titanic[PassengerId#282,Survived#283,Pclass#284,Name#285,Sex#286,Age#287,SibSp#288,Parch#289,Ticket#290,Fare#291,Cabin#292,Embarked#293] parquet\n+- Filter ((cast(Cabin#75 as double) = scalar-subquery#250 []) AND (Sex#69 = female))\n   :  +- Aggregate [max(Fare#263) AS max(Fare)#253]\n   :     +- SubqueryAlias spark_catalog.langchain_example.titanic\n   :        +- Relation spark_catalog.langchain_example.titanic[PassengerId#254,Survived#255,Pclass#256,Name#257,Sex#258,Age#259,SibSp#260,Parch#261,Ticket#262,Fare#263,Cabin#264,Embarked#265] parquet\n   +- SubqueryAlias t1\n      +- SubqueryAlias spark_catalog.langchain_example.titanic\n         +- Relation spark_catalog.langchain_example.titanic[PassengerId#65,Survived#66,Pclass#67,Name#68,Sex#69,Age#70,SibSp#71,Parch#72,Ticket#73,Fare#74,Cabin#75,Embarked#76] parquet\n",
     "output_type": "error",
     "traceback": [
      "\u001b[0;31m---------------------------------------------------------------------------\u001b[0m",
      "\u001b[0;31mAnalysisException\u001b[0m                         Traceback (most recent call last)",
      "Cell \u001b[0;32mIn[6], line 1\u001b[0m\n\u001b[0;32m----> 1\u001b[0m agent_executor\u001b[39m.\u001b[39;49mrun(\u001b[39m\"\u001b[39;49m\u001b[39mwhat\u001b[39;49m\u001b[39m'\u001b[39;49m\u001b[39ms the percentage of female in the group who bought the most expensive cabin?\u001b[39;49m\u001b[39m\"\u001b[39;49m)\n",
      "File \u001b[0;32m~/GitHub/LangChain/langchain/chains/base.py:236\u001b[0m, in \u001b[0;36mChain.run\u001b[0;34m(self, callbacks, *args, **kwargs)\u001b[0m\n\u001b[1;32m    234\u001b[0m     \u001b[39mif\u001b[39;00m \u001b[39mlen\u001b[39m(args) \u001b[39m!=\u001b[39m \u001b[39m1\u001b[39m:\n\u001b[1;32m    235\u001b[0m         \u001b[39mraise\u001b[39;00m \u001b[39mValueError\u001b[39;00m(\u001b[39m\"\u001b[39m\u001b[39m`run` supports only one positional argument.\u001b[39m\u001b[39m\"\u001b[39m)\n\u001b[0;32m--> 236\u001b[0m     \u001b[39mreturn\u001b[39;00m \u001b[39mself\u001b[39;49m(args[\u001b[39m0\u001b[39;49m], callbacks\u001b[39m=\u001b[39;49mcallbacks)[\u001b[39mself\u001b[39m\u001b[39m.\u001b[39moutput_keys[\u001b[39m0\u001b[39m]]\n\u001b[1;32m    238\u001b[0m \u001b[39mif\u001b[39;00m kwargs \u001b[39mand\u001b[39;00m \u001b[39mnot\u001b[39;00m args:\n\u001b[1;32m    239\u001b[0m     \u001b[39mreturn\u001b[39;00m \u001b[39mself\u001b[39m(kwargs, callbacks\u001b[39m=\u001b[39mcallbacks)[\u001b[39mself\u001b[39m\u001b[39m.\u001b[39moutput_keys[\u001b[39m0\u001b[39m]]\n",
      "File \u001b[0;32m~/GitHub/LangChain/langchain/chains/base.py:140\u001b[0m, in \u001b[0;36mChain.__call__\u001b[0;34m(self, inputs, return_only_outputs, callbacks)\u001b[0m\n\u001b[1;32m    138\u001b[0m \u001b[39mexcept\u001b[39;00m (\u001b[39mKeyboardInterrupt\u001b[39;00m, \u001b[39mException\u001b[39;00m) \u001b[39mas\u001b[39;00m e:\n\u001b[1;32m    139\u001b[0m     run_manager\u001b[39m.\u001b[39mon_chain_error(e)\n\u001b[0;32m--> 140\u001b[0m     \u001b[39mraise\u001b[39;00m e\n\u001b[1;32m    141\u001b[0m run_manager\u001b[39m.\u001b[39mon_chain_end(outputs)\n\u001b[1;32m    142\u001b[0m \u001b[39mreturn\u001b[39;00m \u001b[39mself\u001b[39m\u001b[39m.\u001b[39mprep_outputs(inputs, outputs, return_only_outputs)\n",
      "File \u001b[0;32m~/GitHub/LangChain/langchain/chains/base.py:134\u001b[0m, in \u001b[0;36mChain.__call__\u001b[0;34m(self, inputs, return_only_outputs, callbacks)\u001b[0m\n\u001b[1;32m    128\u001b[0m run_manager \u001b[39m=\u001b[39m callback_manager\u001b[39m.\u001b[39mon_chain_start(\n\u001b[1;32m    129\u001b[0m     {\u001b[39m\"\u001b[39m\u001b[39mname\u001b[39m\u001b[39m\"\u001b[39m: \u001b[39mself\u001b[39m\u001b[39m.\u001b[39m\u001b[39m__class__\u001b[39m\u001b[39m.\u001b[39m\u001b[39m__name__\u001b[39m},\n\u001b[1;32m    130\u001b[0m     inputs,\n\u001b[1;32m    131\u001b[0m )\n\u001b[1;32m    132\u001b[0m \u001b[39mtry\u001b[39;00m:\n\u001b[1;32m    133\u001b[0m     outputs \u001b[39m=\u001b[39m (\n\u001b[0;32m--> 134\u001b[0m         \u001b[39mself\u001b[39;49m\u001b[39m.\u001b[39;49m_call(inputs, run_manager\u001b[39m=\u001b[39;49mrun_manager)\n\u001b[1;32m    135\u001b[0m         \u001b[39mif\u001b[39;00m new_arg_supported\n\u001b[1;32m    136\u001b[0m         \u001b[39melse\u001b[39;00m \u001b[39mself\u001b[39m\u001b[39m.\u001b[39m_call(inputs)\n\u001b[1;32m    137\u001b[0m     )\n\u001b[1;32m    138\u001b[0m \u001b[39mexcept\u001b[39;00m (\u001b[39mKeyboardInterrupt\u001b[39;00m, \u001b[39mException\u001b[39;00m) \u001b[39mas\u001b[39;00m e:\n\u001b[1;32m    139\u001b[0m     run_manager\u001b[39m.\u001b[39mon_chain_error(e)\n",
      "File \u001b[0;32m~/GitHub/LangChain/langchain/agents/agent.py:905\u001b[0m, in \u001b[0;36mAgentExecutor._call\u001b[0;34m(self, inputs, run_manager)\u001b[0m\n\u001b[1;32m    903\u001b[0m \u001b[39m# We now enter the agent loop (until it returns something).\u001b[39;00m\n\u001b[1;32m    904\u001b[0m \u001b[39mwhile\u001b[39;00m \u001b[39mself\u001b[39m\u001b[39m.\u001b[39m_should_continue(iterations, time_elapsed):\n\u001b[0;32m--> 905\u001b[0m     next_step_output \u001b[39m=\u001b[39m \u001b[39mself\u001b[39;49m\u001b[39m.\u001b[39;49m_take_next_step(\n\u001b[1;32m    906\u001b[0m         name_to_tool_map,\n\u001b[1;32m    907\u001b[0m         color_mapping,\n\u001b[1;32m    908\u001b[0m         inputs,\n\u001b[1;32m    909\u001b[0m         intermediate_steps,\n\u001b[1;32m    910\u001b[0m         run_manager\u001b[39m=\u001b[39;49mrun_manager,\n\u001b[1;32m    911\u001b[0m     )\n\u001b[1;32m    912\u001b[0m     \u001b[39mif\u001b[39;00m \u001b[39misinstance\u001b[39m(next_step_output, AgentFinish):\n\u001b[1;32m    913\u001b[0m         \u001b[39mreturn\u001b[39;00m \u001b[39mself\u001b[39m\u001b[39m.\u001b[39m_return(\n\u001b[1;32m    914\u001b[0m             next_step_output, intermediate_steps, run_manager\u001b[39m=\u001b[39mrun_manager\n\u001b[1;32m    915\u001b[0m         )\n",
      "File \u001b[0;32m~/GitHub/LangChain/langchain/agents/agent.py:783\u001b[0m, in \u001b[0;36mAgentExecutor._take_next_step\u001b[0;34m(self, name_to_tool_map, color_mapping, inputs, intermediate_steps, run_manager)\u001b[0m\n\u001b[1;32m    781\u001b[0m         tool_run_kwargs[\u001b[39m\"\u001b[39m\u001b[39mllm_prefix\u001b[39m\u001b[39m\"\u001b[39m] \u001b[39m=\u001b[39m \u001b[39m\"\u001b[39m\u001b[39m\"\u001b[39m\n\u001b[1;32m    782\u001b[0m     \u001b[39m# We then call the tool on the tool input to get an observation\u001b[39;00m\n\u001b[0;32m--> 783\u001b[0m     observation \u001b[39m=\u001b[39m tool\u001b[39m.\u001b[39;49mrun(\n\u001b[1;32m    784\u001b[0m         agent_action\u001b[39m.\u001b[39;49mtool_input,\n\u001b[1;32m    785\u001b[0m         verbose\u001b[39m=\u001b[39;49m\u001b[39mself\u001b[39;49m\u001b[39m.\u001b[39;49mverbose,\n\u001b[1;32m    786\u001b[0m         color\u001b[39m=\u001b[39;49mcolor,\n\u001b[1;32m    787\u001b[0m         callbacks\u001b[39m=\u001b[39;49mrun_manager\u001b[39m.\u001b[39;49mget_child() \u001b[39mif\u001b[39;49;00m run_manager \u001b[39melse\u001b[39;49;00m \u001b[39mNone\u001b[39;49;00m,\n\u001b[1;32m    788\u001b[0m         \u001b[39m*\u001b[39;49m\u001b[39m*\u001b[39;49mtool_run_kwargs,\n\u001b[1;32m    789\u001b[0m     )\n\u001b[1;32m    790\u001b[0m \u001b[39melse\u001b[39;00m:\n\u001b[1;32m    791\u001b[0m     tool_run_kwargs \u001b[39m=\u001b[39m \u001b[39mself\u001b[39m\u001b[39m.\u001b[39magent\u001b[39m.\u001b[39mtool_run_logging_kwargs()\n",
      "File \u001b[0;32m~/GitHub/LangChain/langchain/tools/base.py:255\u001b[0m, in \u001b[0;36mBaseTool.run\u001b[0;34m(self, tool_input, verbose, start_color, color, callbacks, **kwargs)\u001b[0m\n\u001b[1;32m    253\u001b[0m \u001b[39mexcept\u001b[39;00m (\u001b[39mException\u001b[39;00m, \u001b[39mKeyboardInterrupt\u001b[39;00m) \u001b[39mas\u001b[39;00m e:\n\u001b[1;32m    254\u001b[0m     run_manager\u001b[39m.\u001b[39mon_tool_error(e)\n\u001b[0;32m--> 255\u001b[0m     \u001b[39mraise\u001b[39;00m e\n\u001b[1;32m    256\u001b[0m run_manager\u001b[39m.\u001b[39mon_tool_end(\u001b[39mstr\u001b[39m(observation), color\u001b[39m=\u001b[39mcolor, name\u001b[39m=\u001b[39m\u001b[39mself\u001b[39m\u001b[39m.\u001b[39mname, \u001b[39m*\u001b[39m\u001b[39m*\u001b[39mkwargs)\n\u001b[1;32m    257\u001b[0m \u001b[39mreturn\u001b[39;00m observation\n",
      "File \u001b[0;32m~/GitHub/LangChain/langchain/tools/base.py:249\u001b[0m, in \u001b[0;36mBaseTool.run\u001b[0;34m(self, tool_input, verbose, start_color, color, callbacks, **kwargs)\u001b[0m\n\u001b[1;32m    246\u001b[0m \u001b[39mtry\u001b[39;00m:\n\u001b[1;32m    247\u001b[0m     tool_args, tool_kwargs \u001b[39m=\u001b[39m \u001b[39mself\u001b[39m\u001b[39m.\u001b[39m_to_args_and_kwargs(parsed_input)\n\u001b[1;32m    248\u001b[0m     observation \u001b[39m=\u001b[39m (\n\u001b[0;32m--> 249\u001b[0m         \u001b[39mself\u001b[39;49m\u001b[39m.\u001b[39;49m_run(\u001b[39m*\u001b[39;49mtool_args, run_manager\u001b[39m=\u001b[39;49mrun_manager, \u001b[39m*\u001b[39;49m\u001b[39m*\u001b[39;49mtool_kwargs)\n\u001b[1;32m    250\u001b[0m         \u001b[39mif\u001b[39;00m new_arg_supported\n\u001b[1;32m    251\u001b[0m         \u001b[39melse\u001b[39;00m \u001b[39mself\u001b[39m\u001b[39m.\u001b[39m_run(\u001b[39m*\u001b[39mtool_args, \u001b[39m*\u001b[39m\u001b[39m*\u001b[39mtool_kwargs)\n\u001b[1;32m    252\u001b[0m     )\n\u001b[1;32m    253\u001b[0m \u001b[39mexcept\u001b[39;00m (\u001b[39mException\u001b[39;00m, \u001b[39mKeyboardInterrupt\u001b[39;00m) \u001b[39mas\u001b[39;00m e:\n\u001b[1;32m    254\u001b[0m     run_manager\u001b[39m.\u001b[39mon_tool_error(e)\n",
      "File \u001b[0;32m~/GitHub/LangChain/langchain/tools/sql_database/tool.py:49\u001b[0m, in \u001b[0;36mQuerySQLDataBaseTool._run\u001b[0;34m(self, query, run_manager)\u001b[0m\n\u001b[1;32m     43\u001b[0m \u001b[39mdef\u001b[39;00m \u001b[39m_run\u001b[39m(\n\u001b[1;32m     44\u001b[0m     \u001b[39mself\u001b[39m,\n\u001b[1;32m     45\u001b[0m     query: \u001b[39mstr\u001b[39m,\n\u001b[1;32m     46\u001b[0m     run_manager: Optional[CallbackManagerForToolRun] \u001b[39m=\u001b[39m \u001b[39mNone\u001b[39;00m,\n\u001b[1;32m     47\u001b[0m ) \u001b[39m-\u001b[39m\u001b[39m>\u001b[39m \u001b[39mstr\u001b[39m:\n\u001b[1;32m     48\u001b[0m \u001b[39m    \u001b[39m\u001b[39m\"\"\"Execute the query, return the results or an error message.\"\"\"\u001b[39;00m\n\u001b[0;32m---> 49\u001b[0m     \u001b[39mreturn\u001b[39;00m \u001b[39mself\u001b[39;49m\u001b[39m.\u001b[39;49mdb\u001b[39m.\u001b[39;49mrun_no_throw(query)\n",
      "File \u001b[0;32m~/GitHub/LangChain/langchain/sql_database.py:274\u001b[0m, in \u001b[0;36mSQLDatabase.run_no_throw\u001b[0;34m(self, command, fetch)\u001b[0m\n\u001b[1;32m    266\u001b[0m \u001b[39m\u001b[39m\u001b[39m\"\"\"Execute a SQL command and return a string representing the results.\u001b[39;00m\n\u001b[1;32m    267\u001b[0m \n\u001b[1;32m    268\u001b[0m \u001b[39mIf the statement returns rows, a string of the results is returned.\u001b[39;00m\n\u001b[0;32m   (...)\u001b[0m\n\u001b[1;32m    271\u001b[0m \u001b[39mIf the statement throws an error, the error message is returned.\u001b[39;00m\n\u001b[1;32m    272\u001b[0m \u001b[39m\"\"\"\u001b[39;00m\n\u001b[1;32m    273\u001b[0m \u001b[39mtry\u001b[39;00m:\n\u001b[0;32m--> 274\u001b[0m     \u001b[39mreturn\u001b[39;00m \u001b[39mself\u001b[39;49m\u001b[39m.\u001b[39;49mrun(command, fetch)\n\u001b[1;32m    275\u001b[0m \u001b[39mexcept\u001b[39;00m SQLAlchemyError \u001b[39mas\u001b[39;00m e:\n\u001b[1;32m    276\u001b[0m \u001b[39m    \u001b[39m\u001b[39m\"\"\"Format the error message\"\"\"\u001b[39;00m\n",
      "File \u001b[0;32m~/GitHub/LangChain/langchain/spark_sql.py:126\u001b[0m, in \u001b[0;36mSparkSQL.run\u001b[0;34m(self, command, fetch)\u001b[0m\n\u001b[1;32m    125\u001b[0m \u001b[39mdef\u001b[39;00m \u001b[39mrun\u001b[39m(\u001b[39mself\u001b[39m, command: \u001b[39mstr\u001b[39m, fetch: \u001b[39mstr\u001b[39m \u001b[39m=\u001b[39m \u001b[39m\"\u001b[39m\u001b[39mall\u001b[39m\u001b[39m\"\u001b[39m) \u001b[39m-\u001b[39m\u001b[39m>\u001b[39m \u001b[39mstr\u001b[39m:\n\u001b[0;32m--> 126\u001b[0m     df \u001b[39m=\u001b[39m \u001b[39mself\u001b[39;49m\u001b[39m.\u001b[39;49m_spark\u001b[39m.\u001b[39;49msql(command)\n\u001b[1;32m    127\u001b[0m     \u001b[39mif\u001b[39;00m fetch \u001b[39m==\u001b[39m \u001b[39m\"\u001b[39m\u001b[39mone\u001b[39m\u001b[39m\"\u001b[39m:\n\u001b[1;32m    128\u001b[0m         df \u001b[39m=\u001b[39m df\u001b[39m.\u001b[39mlimit(\u001b[39m1\u001b[39m)\n",
      "File \u001b[0;32m~/PyEnv/LangChain/lib/python3.9/site-packages/pyspark/sql/session.py:1440\u001b[0m, in \u001b[0;36mSparkSession.sql\u001b[0;34m(self, sqlQuery, args, **kwargs)\u001b[0m\n\u001b[1;32m   1438\u001b[0m \u001b[39mtry\u001b[39;00m:\n\u001b[1;32m   1439\u001b[0m     litArgs \u001b[39m=\u001b[39m {k: _to_java_column(lit(v)) \u001b[39mfor\u001b[39;00m k, v \u001b[39min\u001b[39;00m (args \u001b[39mor\u001b[39;00m {})\u001b[39m.\u001b[39mitems()}\n\u001b[0;32m-> 1440\u001b[0m     \u001b[39mreturn\u001b[39;00m DataFrame(\u001b[39mself\u001b[39;49m\u001b[39m.\u001b[39;49m_jsparkSession\u001b[39m.\u001b[39;49msql(sqlQuery, litArgs), \u001b[39mself\u001b[39m)\n\u001b[1;32m   1441\u001b[0m \u001b[39mfinally\u001b[39;00m:\n\u001b[1;32m   1442\u001b[0m     \u001b[39mif\u001b[39;00m \u001b[39mlen\u001b[39m(kwargs) \u001b[39m>\u001b[39m \u001b[39m0\u001b[39m:\n",
      "File \u001b[0;32m~/PyEnv/LangChain/lib/python3.9/site-packages/py4j/java_gateway.py:1322\u001b[0m, in \u001b[0;36mJavaMember.__call__\u001b[0;34m(self, *args)\u001b[0m\n\u001b[1;32m   1316\u001b[0m command \u001b[39m=\u001b[39m proto\u001b[39m.\u001b[39mCALL_COMMAND_NAME \u001b[39m+\u001b[39m\\\n\u001b[1;32m   1317\u001b[0m     \u001b[39mself\u001b[39m\u001b[39m.\u001b[39mcommand_header \u001b[39m+\u001b[39m\\\n\u001b[1;32m   1318\u001b[0m     args_command \u001b[39m+\u001b[39m\\\n\u001b[1;32m   1319\u001b[0m     proto\u001b[39m.\u001b[39mEND_COMMAND_PART\n\u001b[1;32m   1321\u001b[0m answer \u001b[39m=\u001b[39m \u001b[39mself\u001b[39m\u001b[39m.\u001b[39mgateway_client\u001b[39m.\u001b[39msend_command(command)\n\u001b[0;32m-> 1322\u001b[0m return_value \u001b[39m=\u001b[39m get_return_value(\n\u001b[1;32m   1323\u001b[0m     answer, \u001b[39mself\u001b[39;49m\u001b[39m.\u001b[39;49mgateway_client, \u001b[39mself\u001b[39;49m\u001b[39m.\u001b[39;49mtarget_id, \u001b[39mself\u001b[39;49m\u001b[39m.\u001b[39;49mname)\n\u001b[1;32m   1325\u001b[0m \u001b[39mfor\u001b[39;00m temp_arg \u001b[39min\u001b[39;00m temp_args:\n\u001b[1;32m   1326\u001b[0m     \u001b[39mif\u001b[39;00m \u001b[39mhasattr\u001b[39m(temp_arg, \u001b[39m\"\u001b[39m\u001b[39m_detach\u001b[39m\u001b[39m\"\u001b[39m):\n",
      "File \u001b[0;32m~/PyEnv/LangChain/lib/python3.9/site-packages/pyspark/errors/exceptions/captured.py:175\u001b[0m, in \u001b[0;36mcapture_sql_exception.<locals>.deco\u001b[0;34m(*a, **kw)\u001b[0m\n\u001b[1;32m    171\u001b[0m converted \u001b[39m=\u001b[39m convert_exception(e\u001b[39m.\u001b[39mjava_exception)\n\u001b[1;32m    172\u001b[0m \u001b[39mif\u001b[39;00m \u001b[39mnot\u001b[39;00m \u001b[39misinstance\u001b[39m(converted, UnknownException):\n\u001b[1;32m    173\u001b[0m     \u001b[39m# Hide where the exception came from that shows a non-Pythonic\u001b[39;00m\n\u001b[1;32m    174\u001b[0m     \u001b[39m# JVM exception message.\u001b[39;00m\n\u001b[0;32m--> 175\u001b[0m     \u001b[39mraise\u001b[39;00m converted \u001b[39mfrom\u001b[39;00m \u001b[39mNone\u001b[39;00m\n\u001b[1;32m    176\u001b[0m \u001b[39melse\u001b[39;00m:\n\u001b[1;32m    177\u001b[0m     \u001b[39mraise\u001b[39;00m\n",
      "\u001b[0;31mAnalysisException\u001b[0m: [MISSING_GROUP_BY] The query does not include a GROUP BY clause. Add GROUP BY or turn it into the window functions using OVER clauses.; line 1 pos 0;\nAggregate [Sex#69, ((cast(count(1) as decimal(20,0)) * 100.0) / cast(scalar-subquery#248 [] as decimal(20,0))) AS percentage#249]\n:  +- Aggregate [count(1) AS count(1)#281L]\n:     +- Filter (cast(Cabin#292 as double) = scalar-subquery#247 [])\n:        :  +- Aggregate [max(Fare#278) AS max(Fare)#268]\n:        :     +- SubqueryAlias spark_catalog.langchain_example.titanic\n:        :        +- Relation spark_catalog.langchain_example.titanic[PassengerId#269,Survived#270,Pclass#271,Name#272,Sex#273,Age#274,SibSp#275,Parch#276,Ticket#277,Fare#278,Cabin#279,Embarked#280] parquet\n:        +- SubqueryAlias t2\n:           +- SubqueryAlias spark_catalog.langchain_example.titanic\n:              +- Relation spark_catalog.langchain_example.titanic[PassengerId#282,Survived#283,Pclass#284,Name#285,Sex#286,Age#287,SibSp#288,Parch#289,Ticket#290,Fare#291,Cabin#292,Embarked#293] parquet\n+- Filter ((cast(Cabin#75 as double) = scalar-subquery#250 []) AND (Sex#69 = female))\n   :  +- Aggregate [max(Fare#263) AS max(Fare)#253]\n   :     +- SubqueryAlias spark_catalog.langchain_example.titanic\n   :        +- Relation spark_catalog.langchain_example.titanic[PassengerId#254,Survived#255,Pclass#256,Name#257,Sex#258,Age#259,SibSp#260,Parch#261,Ticket#262,Fare#263,Cabin#264,Embarked#265] parquet\n   +- SubqueryAlias t1\n      +- SubqueryAlias spark_catalog.langchain_example.titanic\n         +- Relation spark_catalog.langchain_example.titanic[PassengerId#65,Survived#66,Pclass#67,Name#68,Sex#69,Age#70,SibSp#71,Parch#72,Ticket#73,Fare#74,Cabin#75,Embarked#76] parquet\n"
     ]
    }
   ],
   "source": [
    "agent_executor.run(\"what's the percentage of female in the group who bought the most expensive cabin?\")"
   ]
  }
 ],
 "metadata": {
  "kernelspec": {
   "display_name": "LangChain",
   "language": "python",
   "name": "python3"
  },
  "language_info": {
   "codemirror_mode": {
    "name": "ipython",
    "version": 3
   },
   "file_extension": ".py",
   "mimetype": "text/x-python",
   "name": "python",
   "nbconvert_exporter": "python",
   "pygments_lexer": "ipython3",
   "version": "3.9.16"
  },
  "orig_nbformat": 4
 },
 "nbformat": 4,
 "nbformat_minor": 2
}
